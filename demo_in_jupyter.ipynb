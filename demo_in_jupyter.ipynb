{
 "cells": [
  {
   "cell_type": "markdown",
   "metadata": {},
   "source": [
    "# Sentiment analysis of text messages stored in an database through an API"
   ]
  },
  {
   "cell_type": "code",
   "execution_count": 3,
   "metadata": {},
   "outputs": [],
   "source": [
    "import requests"
   ]
  },
  {
   "cell_type": "markdown",
   "metadata": {},
   "source": [
    "### Status check"
   ]
  },
  {
   "cell_type": "code",
   "execution_count": 4,
   "metadata": {},
   "outputs": [
    {
     "data": {
      "text/plain": [
       "{'Success': 'the API is up and running'}"
      ]
     },
     "execution_count": 4,
     "metadata": {},
     "output_type": "execute_result"
    }
   ],
   "source": [
    "requests.get(\"http://localhost:8000\").json()"
   ]
  },
  {
   "cell_type": "markdown",
   "metadata": {},
   "source": [
    "## Create USER"
   ]
  },
  {
   "cell_type": "code",
   "execution_count": 5,
   "metadata": {
    "scrolled": true
   },
   "outputs": [
    {
     "name": "stdout",
     "output_type": "stream",
     "text": [
      "Enter one name for your user: ras\n"
     ]
    },
    {
     "data": {
      "text/plain": [
       "{'The user ras has been created with the ID': '\"5f59fb210393b601dd2337dd\"'}"
      ]
     },
     "execution_count": 5,
     "metadata": {},
     "output_type": "execute_result"
    }
   ],
   "source": [
    "username = input(\"Enter one name for your user: \")\n",
    "requests.get(f\"http://localhost:8000/user/create/{username}\").json()"
   ]
  },
  {
   "cell_type": "markdown",
   "metadata": {},
   "source": [
    "### Is the user already in the database?"
   ]
  },
  {
   "cell_type": "code",
   "execution_count": 7,
   "metadata": {},
   "outputs": [
    {
     "name": "stdout",
     "output_type": "stream",
     "text": [
      "Enter one name for your user: noras\n"
     ]
    },
    {
     "data": {
      "text/plain": [
       "{'The user noras has been created with the ID': '\"5f59fb2b0393b601dd2337de\"'}"
      ]
     },
     "execution_count": 7,
     "metadata": {},
     "output_type": "execute_result"
    }
   ],
   "source": [
    "username = input(\"Enter one name for your user: \")\n",
    "requests.get(f\"http://localhost:8000/user/create/{username}\").json()"
   ]
  },
  {
   "cell_type": "markdown",
   "metadata": {},
   "source": [
    "## Create CHAT"
   ]
  },
  {
   "cell_type": "code",
   "execution_count": 9,
   "metadata": {},
   "outputs": [
    {
     "name": "stdout",
     "output_type": "stream",
     "text": [
      "Enter group name: ih\n"
     ]
    },
    {
     "data": {
      "text/plain": [
       "{'Error. The chat name ih exists with the ID': '\"5f59fb300393b601dd2337df\"'}"
      ]
     },
     "execution_count": 9,
     "metadata": {},
     "output_type": "execute_result"
    }
   ],
   "source": [
    "chat_name = input(\"Enter group name: \")\n",
    "requests.get(f\"http://localhost:8000/chat/create/{chat_name}\").json()"
   ]
  },
  {
   "cell_type": "code",
   "execution_count": null,
   "metadata": {},
   "outputs": [],
   "source": [
    "chat_name = input(\"Enter group name: \")\n",
    "requests.get(f\"http://localhost:8000/chat/create/{chat_name}\").json()"
   ]
  },
  {
   "cell_type": "markdown",
   "metadata": {},
   "source": [
    "## Add USER to a CHAT"
   ]
  },
  {
   "cell_type": "code",
   "execution_count": 11,
   "metadata": {
    "scrolled": false
   },
   "outputs": [
    {
     "name": "stdout",
     "output_type": "stream",
     "text": [
      "Enter CHAT name: summer20\n",
      "Enter the name of the USER: Maricarmen\n"
     ]
    },
    {
     "data": {
      "text/plain": [
       "{'The user Maricarmen has been added to the chat summer20 with the chatID': '\"5eb9691fa38213aca7b660a8\"'}"
      ]
     },
     "execution_count": 11,
     "metadata": {},
     "output_type": "execute_result"
    }
   ],
   "source": [
    "chatname= input(\"Enter CHAT name: \")\n",
    "user_to_add = input(\"Enter the name of the USER: \")\n",
    "\n",
    "requests.get(f\"http://localhost:8000/chat/{chatname}/adduser/{user_to_add}\").json()"
   ]
  },
  {
   "cell_type": "code",
   "execution_count": 13,
   "metadata": {},
   "outputs": [
    {
     "name": "stdout",
     "output_type": "stream",
     "text": [
      "Enter CHAT name: summer20\n",
      "Enter the name of the USER: Antonio\n"
     ]
    },
    {
     "data": {
      "text/plain": [
       "{'The user Antonio has been added to the chat summer20 with the chatID': '\"5eb9691fa38213aca7b660a8\"'}"
      ]
     },
     "execution_count": 13,
     "metadata": {},
     "output_type": "execute_result"
    }
   ],
   "source": [
    "chatname= input(\"Enter CHAT name: \")\n",
    "user_to_add = input(\"Enter the name of the USER: \")\n",
    "\n",
    "requests.get(f\"http://localhost:8000/chat/{chatname}/adduser/{user_to_add}\").json()"
   ]
  },
  {
   "cell_type": "markdown",
   "metadata": {},
   "source": [
    "## Add MESSAGES to a CHAT"
   ]
  },
  {
   "cell_type": "code",
   "execution_count": 15,
   "metadata": {},
   "outputs": [
    {
     "name": "stdout",
     "output_type": "stream",
     "text": [
      "Enter CHAT name: summer20\n",
      "Enter the name of the USER: Maricarmen\n",
      "What MESSAGE did this user say?: I think we're gonna have to cancel :(\n"
     ]
    },
    {
     "data": {
      "text/plain": [
       "{\"The text 'I think we're gonna have to cancel :('' sent by the user Maricarmen has been added to the chat summer20 with the chatID\": '\"5eb9691fa38213aca7b660a8\"'}"
      ]
     },
     "execution_count": 15,
     "metadata": {},
     "output_type": "execute_result"
    }
   ],
   "source": [
    "chatname= input(\"Enter CHAT name: \")\n",
    "user_to_add = input(\"Enter the name of the USER: \")\n",
    "message = input(\"What MESSAGE did this user say?: \")\n",
    "\n",
    "requests.get(f\"http://localhost:8000/chat/{chatname}/{user_to_add}/{message}\").json()"
   ]
  }
 ],
 "metadata": {
  "kernelspec": {
   "display_name": "Python 3",
   "language": "python",
   "name": "python3"
  },
  "language_info": {
   "codemirror_mode": {
    "name": "ipython",
    "version": 3
   },
   "file_extension": ".py",
   "mimetype": "text/x-python",
   "name": "python",
   "nbconvert_exporter": "python",
   "pygments_lexer": "ipython3",
   "version": "3.8.5"
  }
 },
 "nbformat": 4,
 "nbformat_minor": 2
}
