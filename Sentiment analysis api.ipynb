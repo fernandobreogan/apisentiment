{
 "cells": [
  {
   "cell_type": "code",
   "execution_count": 64,
   "metadata": {},
   "outputs": [],
   "source": [
    "import requests\n",
    "from pymongo import MongoClient\n",
    "from bson.objectid import ObjectId\n",
    "from flask import Flask, request\n",
    "import pymongo\n",
    "import json\n",
    "import argparse\n",
    "import requests"
   ]
  },
  {
   "cell_type": "code",
   "execution_count": 65,
   "metadata": {},
   "outputs": [
    {
     "name": "stdout",
     "output_type": "stream",
     "text": [
      "24\n"
     ]
    }
   ],
   "source": [
    "print(len(\"5e500b2a6deb96fb1ae8698e\"))"
   ]
  },
  {
   "cell_type": "code",
   "execution_count": 96,
   "metadata": {},
   "outputs": [],
   "source": [
    "client = MongoClient('mongodb://localhost:27017/')\n",
    "db = client['eslac']"
   ]
  },
  {
   "cell_type": "code",
   "execution_count": 97,
   "metadata": {},
   "outputs": [
    {
     "data": {
      "text/plain": [
       "'The API works!'"
      ]
     },
     "execution_count": 97,
     "metadata": {},
     "output_type": "execute_result"
    }
   ],
   "source": [
    "requests.get(\"http://localhost:8000/test\").text"
   ]
  },
  {
   "cell_type": "markdown",
   "metadata": {},
   "source": [
    "## Create USER"
   ]
  },
  {
   "cell_type": "code",
   "execution_count": 98,
   "metadata": {
    "scrolled": true
   },
   "outputs": [
    {
     "name": "stdout",
     "output_type": "stream",
     "text": [
      "Enter one name for your user: sdzfxg\n"
     ]
    },
    {
     "data": {
      "text/plain": [
       "'\"5e53f061751078c1dcf76b68\"'"
      ]
     },
     "execution_count": 98,
     "metadata": {},
     "output_type": "execute_result"
    }
   ],
   "source": [
    "username = input(\"Enter one name for your user: \")\n",
    "requests.get(f\"http://localhost:8000/user/create/{username}\").text"
   ]
  },
  {
   "cell_type": "markdown",
   "metadata": {},
   "source": [
    "## Create CHAT"
   ]
  },
  {
   "cell_type": "code",
   "execution_count": 99,
   "metadata": {},
   "outputs": [
    {
     "name": "stdout",
     "output_type": "stream",
     "text": [
      "Enter group name: dzf\n"
     ]
    },
    {
     "data": {
      "text/plain": [
       "'\"5e53f062751078c1dcf76b69\"'"
      ]
     },
     "execution_count": 99,
     "metadata": {},
     "output_type": "execute_result"
    }
   ],
   "source": [
    "chat_name = input(\"Enter group name: \")\n",
    "requests.get(f\"http://localhost:8000/chat/create/{chat_name}\").text"
   ]
  },
  {
   "cell_type": "markdown",
   "metadata": {},
   "source": [
    "## Add USER to a CHAT"
   ]
  },
  {
   "cell_type": "code",
   "execution_count": 101,
   "metadata": {},
   "outputs": [],
   "source": [
    "def addUserToChat(chat_name, username):\n",
    "    check_user = checkUserExistsByName(db, username)\n",
    "    check_chat = checkChatExistsByName(db, chat_name)\n",
    "    if  check_user == True:\n",
    "        if check_chat == True:\n",
    "            db.conversations.update_one({ \"Chat name\": chat_name },{ \"$push\": { \"Users\": username }})\n",
    "        return \"The user {} has been added to the chat: {}\".format(username, chat_name)\n",
    "    else:\n",
    "        return \"Error: either of them does not exist\""
   ]
  },
  {
   "cell_type": "code",
   "execution_count": 95,
   "metadata": {},
   "outputs": [
    {
     "data": {
      "text/plain": [
       "'The user pepe has been added to the chat: pueblo'"
      ]
     },
     "execution_count": 95,
     "metadata": {},
     "output_type": "execute_result"
    }
   ],
   "source": [
    "addUserToChat(\"pueblo\", \"pepe\")"
   ]
  },
  {
   "cell_type": "code",
   "execution_count": 105,
   "metadata": {
    "scrolled": false
   },
   "outputs": [
    {
     "name": "stdout",
     "output_type": "stream",
     "text": [
      "Enter chat name: pueblo\n",
      "Enter the name of the user: pepe\n"
     ]
    },
    {
     "data": {
      "text/plain": [
       "'<!DOCTYPE HTML PUBLIC \"-//W3C//DTD HTML 4.01 Transitional//EN\"\\n  \"http://www.w3.org/TR/html4/loose.dtd\">\\n<html>\\n  <head>\\n    <title>bson.errors.InvalidDocument: cannot encode object: {\\'p\\', \\'e\\'}, of type: &lt;class \\'set\\'&gt; // Werkzeug Debugger</title>\\n    <link rel=\"stylesheet\" href=\"?__debugger__=yes&amp;cmd=resource&amp;f=style.css\"\\n        type=\"text/css\">\\n    <!-- We need to make sure this has a favicon so that the debugger does\\n         not by accident trigger a request to /favicon.ico which might\\n         change the application state. -->\\n    <link rel=\"shortcut icon\"\\n        href=\"?__debugger__=yes&amp;cmd=resource&amp;f=console.png\">\\n    <script src=\"?__debugger__=yes&amp;cmd=resource&amp;f=jquery.js\"></script>\\n    <script src=\"?__debugger__=yes&amp;cmd=resource&amp;f=debugger.js\"></script>\\n    <script type=\"text/javascript\">\\n      var TRACEBACK = 4442565456,\\n          CONSOLE_MODE = false,\\n          EVALEX = true,\\n          EVALEX_TRUSTED = false,\\n          SECRET = \"V3O5CUq5IlRJVacNW451\";\\n    </script>\\n  </head>\\n  <body style=\"background-color: #fff\">\\n    <div class=\"debugger\">\\n<h1>bson.errors.InvalidDocument</h1>\\n<div class=\"detail\">\\n  <p class=\"errormsg\">bson.errors.InvalidDocument: cannot encode object: {\\'p\\', \\'e\\'}, of type: &lt;class \\'set\\'&gt;</p>\\n</div>\\n<h2 class=\"traceback\">Traceback <em>(most recent call last)</em></h2>\\n<div class=\"traceback\">\\n  \\n  <ul><li><div class=\"frame\" id=\"frame-4442029776\">\\n  <h4>File <cite class=\"filename\">\"/usr/local/lib/python3.7/site-packages/flask/app.py\"</cite>,\\n      line <em class=\"line\">2463</em>,\\n      in <code class=\"function\">__call__</code></h4>\\n  <div class=\"source \"><pre class=\"line before\"><span class=\"ws\"></span> </pre>\\n<pre class=\"line before\"><span class=\"ws\">    </span>def __call__(self, environ, start_response):</pre>\\n<pre class=\"line before\"><span class=\"ws\">        </span>&quot;&quot;&quot;The WSGI server calls the Flask application object as the</pre>\\n<pre class=\"line before\"><span class=\"ws\">        </span>WSGI application. This calls :meth:`wsgi_app` which can be</pre>\\n<pre class=\"line before\"><span class=\"ws\">        </span>wrapped to applying middleware.&quot;&quot;&quot;</pre>\\n<pre class=\"line current\"><span class=\"ws\">        </span>return self.wsgi_app(environ, start_response)</pre>\\n<pre class=\"line after\"><span class=\"ws\"></span> </pre>\\n<pre class=\"line after\"><span class=\"ws\">    </span>def __repr__(self):</pre>\\n<pre class=\"line after\"><span class=\"ws\">        </span>return &quot;&lt;%s %r&gt;&quot; % (self.__class__.__name__, self.name)</pre></div>\\n</div>\\n\\n<li><div class=\"frame\" id=\"frame-4442670096\">\\n  <h4>File <cite class=\"filename\">\"/usr/local/lib/python3.7/site-packages/flask/app.py\"</cite>,\\n      line <em class=\"line\">2449</em>,\\n      in <code class=\"function\">wsgi_app</code></h4>\\n  <div class=\"source \"><pre class=\"line before\"><span class=\"ws\">            </span>try:</pre>\\n<pre class=\"line before\"><span class=\"ws\">                </span>ctx.push()</pre>\\n<pre class=\"line before\"><span class=\"ws\">                </span>response = self.full_dispatch_request()</pre>\\n<pre class=\"line before\"><span class=\"ws\">            </span>except Exception as e:</pre>\\n<pre class=\"line before\"><span class=\"ws\">                </span>error = e</pre>\\n<pre class=\"line current\"><span class=\"ws\">                </span>response = self.handle_exception(e)</pre>\\n<pre class=\"line after\"><span class=\"ws\">            </span>except:  # noqa: B001</pre>\\n<pre class=\"line after\"><span class=\"ws\">                </span>error = sys.exc_info()[1]</pre>\\n<pre class=\"line after\"><span class=\"ws\">                </span>raise</pre>\\n<pre class=\"line after\"><span class=\"ws\">            </span>return response(environ, start_response)</pre>\\n<pre class=\"line after\"><span class=\"ws\">        </span>finally:</pre></div>\\n</div>\\n\\n<li><div class=\"frame\" id=\"frame-4442669264\">\\n  <h4>File <cite class=\"filename\">\"/usr/local/lib/python3.7/site-packages/flask/app.py\"</cite>,\\n      line <em class=\"line\">1866</em>,\\n      in <code class=\"function\">handle_exception</code></h4>\\n  <div class=\"source \"><pre class=\"line before\"><span class=\"ws\">            </span># if we want to repropagate the exception, we can attempt to</pre>\\n<pre class=\"line before\"><span class=\"ws\">            </span># raise it with the whole traceback in case we can do that</pre>\\n<pre class=\"line before\"><span class=\"ws\">            </span># (the function was actually called from the except part)</pre>\\n<pre class=\"line before\"><span class=\"ws\">            </span># otherwise, we just raise the error again</pre>\\n<pre class=\"line before\"><span class=\"ws\">            </span>if exc_value is e:</pre>\\n<pre class=\"line current\"><span class=\"ws\">                </span>reraise(exc_type, exc_value, tb)</pre>\\n<pre class=\"line after\"><span class=\"ws\">            </span>else:</pre>\\n<pre class=\"line after\"><span class=\"ws\">                </span>raise e</pre>\\n<pre class=\"line after\"><span class=\"ws\"></span> </pre>\\n<pre class=\"line after\"><span class=\"ws\">        </span>self.log_exception((exc_type, exc_value, tb))</pre>\\n<pre class=\"line after\"><span class=\"ws\">        </span>server_error = InternalServerError()</pre></div>\\n</div>\\n\\n<li><div class=\"frame\" id=\"frame-4442670224\">\\n  <h4>File <cite class=\"filename\">\"/usr/local/lib/python3.7/site-packages/flask/_compat.py\"</cite>,\\n      line <em class=\"line\">39</em>,\\n      in <code class=\"function\">reraise</code></h4>\\n  <div class=\"source \"><pre class=\"line before\"><span class=\"ws\">    </span>import collections.abc as collections_abc</pre>\\n<pre class=\"line before\"><span class=\"ws\"></span> </pre>\\n<pre class=\"line before\"><span class=\"ws\">    </span>def reraise(tp, value, tb=None):</pre>\\n<pre class=\"line before\"><span class=\"ws\">        </span>if value.__traceback__ is not tb:</pre>\\n<pre class=\"line before\"><span class=\"ws\">            </span>raise value.with_traceback(tb)</pre>\\n<pre class=\"line current\"><span class=\"ws\">        </span>raise value</pre>\\n<pre class=\"line after\"><span class=\"ws\"></span> </pre>\\n<pre class=\"line after\"><span class=\"ws\">    </span>implements_to_string = _identity</pre>\\n<pre class=\"line after\"><span class=\"ws\"></span> </pre>\\n<pre class=\"line after\"><span class=\"ws\"></span>else:</pre>\\n<pre class=\"line after\"><span class=\"ws\">    </span>iterkeys = lambda d: d.iterkeys()</pre></div>\\n</div>\\n\\n<li><div class=\"frame\" id=\"frame-4442670288\">\\n  <h4>File <cite class=\"filename\">\"/usr/local/lib/python3.7/site-packages/flask/app.py\"</cite>,\\n      line <em class=\"line\">2446</em>,\\n      in <code class=\"function\">wsgi_app</code></h4>\\n  <div class=\"source \"><pre class=\"line before\"><span class=\"ws\">        </span>ctx = self.request_context(environ)</pre>\\n<pre class=\"line before\"><span class=\"ws\">        </span>error = None</pre>\\n<pre class=\"line before\"><span class=\"ws\">        </span>try:</pre>\\n<pre class=\"line before\"><span class=\"ws\">            </span>try:</pre>\\n<pre class=\"line before\"><span class=\"ws\">                </span>ctx.push()</pre>\\n<pre class=\"line current\"><span class=\"ws\">                </span>response = self.full_dispatch_request()</pre>\\n<pre class=\"line after\"><span class=\"ws\">            </span>except Exception as e:</pre>\\n<pre class=\"line after\"><span class=\"ws\">                </span>error = e</pre>\\n<pre class=\"line after\"><span class=\"ws\">                </span>response = self.handle_exception(e)</pre>\\n<pre class=\"line after\"><span class=\"ws\">            </span>except:  # noqa: B001</pre>\\n<pre class=\"line after\"><span class=\"ws\">                </span>error = sys.exc_info()[1]</pre></div>\\n</div>\\n\\n<li><div class=\"frame\" id=\"frame-4442670480\">\\n  <h4>File <cite class=\"filename\">\"/usr/local/lib/python3.7/site-packages/flask/app.py\"</cite>,\\n      line <em class=\"line\">1951</em>,\\n      in <code class=\"function\">full_dispatch_request</code></h4>\\n  <div class=\"source \"><pre class=\"line before\"><span class=\"ws\">            </span>request_started.send(self)</pre>\\n<pre class=\"line before\"><span class=\"ws\">            </span>rv = self.preprocess_request()</pre>\\n<pre class=\"line before\"><span class=\"ws\">            </span>if rv is None:</pre>\\n<pre class=\"line before\"><span class=\"ws\">                </span>rv = self.dispatch_request()</pre>\\n<pre class=\"line before\"><span class=\"ws\">        </span>except Exception as e:</pre>\\n<pre class=\"line current\"><span class=\"ws\">            </span>rv = self.handle_user_exception(e)</pre>\\n<pre class=\"line after\"><span class=\"ws\">        </span>return self.finalize_request(rv)</pre>\\n<pre class=\"line after\"><span class=\"ws\"></span> </pre>\\n<pre class=\"line after\"><span class=\"ws\">    </span>def finalize_request(self, rv, from_error_handler=False):</pre>\\n<pre class=\"line after\"><span class=\"ws\">        </span>&quot;&quot;&quot;Given the return value from a view function this finalizes</pre>\\n<pre class=\"line after\"><span class=\"ws\">        </span>the request by converting it into a response and invoking the</pre></div>\\n</div>\\n\\n<li><div class=\"frame\" id=\"frame-4442670160\">\\n  <h4>File <cite class=\"filename\">\"/usr/local/lib/python3.7/site-packages/flask/app.py\"</cite>,\\n      line <em class=\"line\">1820</em>,\\n      in <code class=\"function\">handle_user_exception</code></h4>\\n  <div class=\"source \"><pre class=\"line before\"><span class=\"ws\">            </span>return self.handle_http_exception(e)</pre>\\n<pre class=\"line before\"><span class=\"ws\"></span> </pre>\\n<pre class=\"line before\"><span class=\"ws\">        </span>handler = self._find_error_handler(e)</pre>\\n<pre class=\"line before\"><span class=\"ws\"></span> </pre>\\n<pre class=\"line before\"><span class=\"ws\">        </span>if handler is None:</pre>\\n<pre class=\"line current\"><span class=\"ws\">            </span>reraise(exc_type, exc_value, tb)</pre>\\n<pre class=\"line after\"><span class=\"ws\">        </span>return handler(e)</pre>\\n<pre class=\"line after\"><span class=\"ws\"></span> </pre>\\n<pre class=\"line after\"><span class=\"ws\">    </span>def handle_exception(self, e):</pre>\\n<pre class=\"line after\"><span class=\"ws\">        </span>&quot;&quot;&quot;Handle an exception that did not have an error handler</pre>\\n<pre class=\"line after\"><span class=\"ws\">        </span>associated with it, or that was raised from an error handler.</pre></div>\\n</div>\\n\\n<li><div class=\"frame\" id=\"frame-4442670032\">\\n  <h4>File <cite class=\"filename\">\"/usr/local/lib/python3.7/site-packages/flask/_compat.py\"</cite>,\\n      line <em class=\"line\">39</em>,\\n      in <code class=\"function\">reraise</code></h4>\\n  <div class=\"source \"><pre class=\"line before\"><span class=\"ws\">    </span>import collections.abc as collections_abc</pre>\\n<pre class=\"line before\"><span class=\"ws\"></span> </pre>\\n<pre class=\"line before\"><span class=\"ws\">    </span>def reraise(tp, value, tb=None):</pre>\\n<pre class=\"line before\"><span class=\"ws\">        </span>if value.__traceback__ is not tb:</pre>\\n<pre class=\"line before\"><span class=\"ws\">            </span>raise value.with_traceback(tb)</pre>\\n<pre class=\"line current\"><span class=\"ws\">        </span>raise value</pre>\\n<pre class=\"line after\"><span class=\"ws\"></span> </pre>\\n<pre class=\"line after\"><span class=\"ws\">    </span>implements_to_string = _identity</pre>\\n<pre class=\"line after\"><span class=\"ws\"></span> </pre>\\n<pre class=\"line after\"><span class=\"ws\"></span>else:</pre>\\n<pre class=\"line after\"><span class=\"ws\">    </span>iterkeys = lambda d: d.iterkeys()</pre></div>\\n</div>\\n\\n<li><div class=\"frame\" id=\"frame-4442670608\">\\n  <h4>File <cite class=\"filename\">\"/usr/local/lib/python3.7/site-packages/flask/app.py\"</cite>,\\n      line <em class=\"line\">1949</em>,\\n      in <code class=\"function\">full_dispatch_request</code></h4>\\n  <div class=\"source \"><pre class=\"line before\"><span class=\"ws\">        </span>self.try_trigger_before_first_request_functions()</pre>\\n<pre class=\"line before\"><span class=\"ws\">        </span>try:</pre>\\n<pre class=\"line before\"><span class=\"ws\">            </span>request_started.send(self)</pre>\\n<pre class=\"line before\"><span class=\"ws\">            </span>rv = self.preprocess_request()</pre>\\n<pre class=\"line before\"><span class=\"ws\">            </span>if rv is None:</pre>\\n<pre class=\"line current\"><span class=\"ws\">                </span>rv = self.dispatch_request()</pre>\\n<pre class=\"line after\"><span class=\"ws\">        </span>except Exception as e:</pre>\\n<pre class=\"line after\"><span class=\"ws\">            </span>rv = self.handle_user_exception(e)</pre>\\n<pre class=\"line after\"><span class=\"ws\">        </span>return self.finalize_request(rv)</pre>\\n<pre class=\"line after\"><span class=\"ws\"></span> </pre>\\n<pre class=\"line after\"><span class=\"ws\">    </span>def finalize_request(self, rv, from_error_handler=False):</pre></div>\\n</div>\\n\\n<li><div class=\"frame\" id=\"frame-4442670352\">\\n  <h4>File <cite class=\"filename\">\"/usr/local/lib/python3.7/site-packages/flask/app.py\"</cite>,\\n      line <em class=\"line\">1935</em>,\\n      in <code class=\"function\">dispatch_request</code></h4>\\n  <div class=\"source \"><pre class=\"line before\"><span class=\"ws\">            </span>getattr(rule, &quot;provide_automatic_options&quot;, False)</pre>\\n<pre class=\"line before\"><span class=\"ws\">            </span>and req.method == &quot;OPTIONS&quot;</pre>\\n<pre class=\"line before\"><span class=\"ws\">        </span>):</pre>\\n<pre class=\"line before\"><span class=\"ws\">            </span>return self.make_default_options_response()</pre>\\n<pre class=\"line before\"><span class=\"ws\">        </span># otherwise dispatch to the handler for that endpoint</pre>\\n<pre class=\"line current\"><span class=\"ws\">        </span>return self.view_functions[rule.endpoint](**req.view_args)</pre>\\n<pre class=\"line after\"><span class=\"ws\"></span> </pre>\\n<pre class=\"line after\"><span class=\"ws\">    </span>def full_dispatch_request(self):</pre>\\n<pre class=\"line after\"><span class=\"ws\">        </span>&quot;&quot;&quot;Dispatches the request and on top of that performs request</pre>\\n<pre class=\"line after\"><span class=\"ws\">        </span>pre and postprocessing as well as HTTP exception catching and</pre>\\n<pre class=\"line after\"><span class=\"ws\">        </span>error handling.</pre></div>\\n</div>\\n\\n<li><div class=\"frame\" id=\"frame-4442669200\">\\n  <h4>File <cite class=\"filename\">\"/Users/fernandocosta/Desktop/apisentiment/api_endpoints.py\"</cite>,\\n      line <em class=\"line\">48</em>,\\n      in <code class=\"function\">addUserToChat</code></h4>\\n  <div class=\"source \"><pre class=\"line before\"><span class=\"ws\"></span>def addUserToChat(chat_name, username):</pre>\\n<pre class=\"line before\"><span class=\"ws\">    </span>check_user = checkUserExistsByName(db, username)</pre>\\n<pre class=\"line before\"><span class=\"ws\">    </span>check_chat = checkChatExistsByName(db, chat_name)</pre>\\n<pre class=\"line before\"><span class=\"ws\">    </span>if  check_user == True:</pre>\\n<pre class=\"line before\"><span class=\"ws\">        </span>if check_chat == True:</pre>\\n<pre class=\"line current\"><span class=\"ws\">            </span>db.conversations.update_one({ &quot;Chat name&quot;: chat_name },{ &quot;$push&quot;: { &quot;Users&quot;: set(username) }})</pre>\\n<pre class=\"line after\"><span class=\"ws\">        </span>return &quot;The user {} has been added to the chat: {}&quot;.format(username, chat_name)</pre>\\n<pre class=\"line after\"><span class=\"ws\">    </span>else:</pre>\\n<pre class=\"line after\"><span class=\"ws\">        </span>return &quot;Error: either of them does not exist&quot;</pre>\\n<pre class=\"line after\"><span class=\"ws\"></span> </pre>\\n<pre class=\"line after\"><span class=\"ws\"></span>#def addMessagesToChat(chat_id, username, message):</pre></div>\\n</div>\\n\\n<li><div class=\"frame\" id=\"frame-4442669904\">\\n  <h4>File <cite class=\"filename\">\"/usr/local/lib/python3.7/site-packages/pymongo/collection.py\"</cite>,\\n      line <em class=\"line\">1003</em>,\\n      in <code class=\"function\">update_one</code></h4>\\n  <div class=\"source \"><pre class=\"line before\"><span class=\"ws\">            </span>self._update_retryable(</pre>\\n<pre class=\"line before\"><span class=\"ws\">                </span>filter, update, upsert, check_keys=False,</pre>\\n<pre class=\"line before\"><span class=\"ws\">                </span>write_concern=write_concern,</pre>\\n<pre class=\"line before\"><span class=\"ws\">                </span>bypass_doc_val=bypass_document_validation,</pre>\\n<pre class=\"line before\"><span class=\"ws\">                </span>collation=collation, array_filters=array_filters,</pre>\\n<pre class=\"line current\"><span class=\"ws\">                </span>session=session),</pre>\\n<pre class=\"line after\"><span class=\"ws\">            </span>write_concern.acknowledged)</pre>\\n<pre class=\"line after\"><span class=\"ws\"></span> </pre>\\n<pre class=\"line after\"><span class=\"ws\">    </span>def update_many(self, filter, update, upsert=False, array_filters=None,</pre>\\n<pre class=\"line after\"><span class=\"ws\">                    </span>bypass_document_validation=False, collation=None,</pre>\\n<pre class=\"line after\"><span class=\"ws\">                    </span>session=None):</pre></div>\\n</div>\\n\\n<li><div class=\"frame\" id=\"frame-4442670736\">\\n  <h4>File <cite class=\"filename\">\"/usr/local/lib/python3.7/site-packages/pymongo/collection.py\"</cite>,\\n      line <em class=\"line\">856</em>,\\n      in <code class=\"function\">_update_retryable</code></h4>\\n  <div class=\"source \"><pre class=\"line before\"><span class=\"ws\">                </span>array_filters=array_filters, session=session,</pre>\\n<pre class=\"line before\"><span class=\"ws\">                </span>retryable_write=retryable_write)</pre>\\n<pre class=\"line before\"><span class=\"ws\"></span> </pre>\\n<pre class=\"line before\"><span class=\"ws\">        </span>return self.__database.client._retryable_write(</pre>\\n<pre class=\"line before\"><span class=\"ws\">            </span>(write_concern or self.write_concern).acknowledged and not multi,</pre>\\n<pre class=\"line current\"><span class=\"ws\">            </span>_update, session)</pre>\\n<pre class=\"line after\"><span class=\"ws\"></span> </pre>\\n<pre class=\"line after\"><span class=\"ws\">    </span>def replace_one(self, filter, replacement, upsert=False,</pre>\\n<pre class=\"line after\"><span class=\"ws\">                    </span>bypass_document_validation=False, collation=None,</pre>\\n<pre class=\"line after\"><span class=\"ws\">                    </span>session=None):</pre>\\n<pre class=\"line after\"><span class=\"ws\">        </span>&quot;&quot;&quot;Replace a single document matching the filter.</pre></div>\\n</div>\\n\\n<li><div class=\"frame\" id=\"frame-4442669840\">\\n  <h4>File <cite class=\"filename\">\"/usr/local/lib/python3.7/site-packages/pymongo/mongo_client.py\"</cite>,\\n      line <em class=\"line\">1491</em>,\\n      in <code class=\"function\">_retryable_write</code></h4>\\n  <div class=\"source \"><pre class=\"line before\"><span class=\"ws\">                </span>last_error = exc</pre>\\n<pre class=\"line before\"><span class=\"ws\"></span> </pre>\\n<pre class=\"line before\"><span class=\"ws\">    </span>def _retryable_write(self, retryable, func, session):</pre>\\n<pre class=\"line before\"><span class=\"ws\">        </span>&quot;&quot;&quot;Internal retryable write helper.&quot;&quot;&quot;</pre>\\n<pre class=\"line before\"><span class=\"ws\">        </span>with self._tmp_session(session) as s:</pre>\\n<pre class=\"line current\"><span class=\"ws\">            </span>return self._retry_with_session(retryable, func, s, None)</pre>\\n<pre class=\"line after\"><span class=\"ws\"></span> </pre>\\n<pre class=\"line after\"><span class=\"ws\">    </span>def _reset_server(self, address):</pre>\\n<pre class=\"line after\"><span class=\"ws\">        </span>&quot;&quot;&quot;Clear our connection pool for a server and mark it Unknown.&quot;&quot;&quot;</pre>\\n<pre class=\"line after\"><span class=\"ws\">        </span>self._topology.reset_server(address)</pre>\\n<pre class=\"line after\"><span class=\"ws\"></span> </pre></div>\\n</div>\\n\\n<li><div class=\"frame\" id=\"frame-4442670928\">\\n  <h4>File <cite class=\"filename\">\"/usr/local/lib/python3.7/site-packages/pymongo/mongo_client.py\"</cite>,\\n      line <em class=\"line\">1384</em>,\\n      in <code class=\"function\">_retry_with_session</code></h4>\\n  <div class=\"source \"><pre class=\"line before\"><span class=\"ws\">                        </span>if is_retrying():</pre>\\n<pre class=\"line before\"><span class=\"ws\">                            </span># A retry is not possible because this server does</pre>\\n<pre class=\"line before\"><span class=\"ws\">                            </span># not support sessions raise the last error.</pre>\\n<pre class=\"line before\"><span class=\"ws\">                            </span>raise last_error</pre>\\n<pre class=\"line before\"><span class=\"ws\">                        </span>retryable = False</pre>\\n<pre class=\"line current\"><span class=\"ws\">                    </span>return func(session, sock_info, retryable)</pre>\\n<pre class=\"line after\"><span class=\"ws\">            </span>except ServerSelectionTimeoutError:</pre>\\n<pre class=\"line after\"><span class=\"ws\">                </span>if is_retrying():</pre>\\n<pre class=\"line after\"><span class=\"ws\">                    </span># The application may think the write was never attempted</pre>\\n<pre class=\"line after\"><span class=\"ws\">                    </span># if we raise ServerSelectionTimeoutError on the retry</pre>\\n<pre class=\"line after\"><span class=\"ws\">                    </span># attempt. Raise the original exception instead.</pre></div>\\n</div>\\n\\n<li><div class=\"frame\" id=\"frame-4442670992\">\\n  <h4>File <cite class=\"filename\">\"/usr/local/lib/python3.7/site-packages/pymongo/collection.py\"</cite>,\\n      line <em class=\"line\">852</em>,\\n      in <code class=\"function\">_update</code></h4>\\n  <div class=\"source \"><pre class=\"line before\"><span class=\"ws\">                </span>sock_info, criteria, document, upsert=upsert,</pre>\\n<pre class=\"line before\"><span class=\"ws\">                </span>check_keys=check_keys, multi=multi, manipulate=manipulate,</pre>\\n<pre class=\"line before\"><span class=\"ws\">                </span>write_concern=write_concern, op_id=op_id, ordered=ordered,</pre>\\n<pre class=\"line before\"><span class=\"ws\">                </span>bypass_doc_val=bypass_doc_val, collation=collation,</pre>\\n<pre class=\"line before\"><span class=\"ws\">                </span>array_filters=array_filters, session=session,</pre>\\n<pre class=\"line current\"><span class=\"ws\">                </span>retryable_write=retryable_write)</pre>\\n<pre class=\"line after\"><span class=\"ws\"></span> </pre>\\n<pre class=\"line after\"><span class=\"ws\">        </span>return self.__database.client._retryable_write(</pre>\\n<pre class=\"line after\"><span class=\"ws\">            </span>(write_concern or self.write_concern).acknowledged and not multi,</pre>\\n<pre class=\"line after\"><span class=\"ws\">            </span>_update, session)</pre>\\n<pre class=\"line after\"><span class=\"ws\"></span> </pre></div>\\n</div>\\n\\n<li><div class=\"frame\" id=\"frame-4442671056\">\\n  <h4>File <cite class=\"filename\">\"/usr/local/lib/python3.7/site-packages/pymongo/collection.py\"</cite>,\\n      line <em class=\"line\">822</em>,\\n      in <code class=\"function\">_update</code></h4>\\n  <div class=\"source \"><pre class=\"line before\"><span class=\"ws\">            </span>command,</pre>\\n<pre class=\"line before\"><span class=\"ws\">            </span>write_concern=write_concern,</pre>\\n<pre class=\"line before\"><span class=\"ws\">            </span>codec_options=self.__write_response_codec_options,</pre>\\n<pre class=\"line before\"><span class=\"ws\">            </span>session=session,</pre>\\n<pre class=\"line before\"><span class=\"ws\">            </span>client=self.__database.client,</pre>\\n<pre class=\"line current\"><span class=\"ws\">            </span>retryable_write=retryable_write).copy()</pre>\\n<pre class=\"line after\"><span class=\"ws\">        </span>_check_write_command_response(result)</pre>\\n<pre class=\"line after\"><span class=\"ws\">        </span># Add the updatedExisting field for compatibility.</pre>\\n<pre class=\"line after\"><span class=\"ws\">        </span>if result.get(\\'n\\') and \\'upserted\\' not in result:</pre>\\n<pre class=\"line after\"><span class=\"ws\">            </span>result[\\'updatedExisting\\'] = True</pre>\\n<pre class=\"line after\"><span class=\"ws\">        </span>else:</pre></div>\\n</div>\\n\\n<li><div class=\"frame\" id=\"frame-4442671120\">\\n  <h4>File <cite class=\"filename\">\"/usr/local/lib/python3.7/site-packages/pymongo/pool.py\"</cite>,\\n      line <em class=\"line\">618</em>,\\n      in <code class=\"function\">command</code></h4>\\n  <div class=\"source \"><pre class=\"line before\"><span class=\"ws\">                           </span>user_fields=user_fields)</pre>\\n<pre class=\"line before\"><span class=\"ws\">        </span>except OperationFailure:</pre>\\n<pre class=\"line before\"><span class=\"ws\">            </span>raise</pre>\\n<pre class=\"line before\"><span class=\"ws\">        </span># Catch socket.error, KeyboardInterrupt, etc. and close ourselves.</pre>\\n<pre class=\"line before\"><span class=\"ws\">        </span>except BaseException as error:</pre>\\n<pre class=\"line current\"><span class=\"ws\">            </span>self._raise_connection_failure(error)</pre>\\n<pre class=\"line after\"><span class=\"ws\"></span> </pre>\\n<pre class=\"line after\"><span class=\"ws\">    </span>def send_message(self, message, max_doc_size):</pre>\\n<pre class=\"line after\"><span class=\"ws\">        </span>&quot;&quot;&quot;Send a raw BSON message or raise ConnectionFailure.</pre>\\n<pre class=\"line after\"><span class=\"ws\"></span> </pre>\\n<pre class=\"line after\"><span class=\"ws\">        </span>If a network exception is raised, the socket is closed.</pre></div>\\n</div>\\n\\n<li><div class=\"frame\" id=\"frame-4442671184\">\\n  <h4>File <cite class=\"filename\">\"/usr/local/lib/python3.7/site-packages/pymongo/pool.py\"</cite>,\\n      line <em class=\"line\">613</em>,\\n      in <code class=\"function\">command</code></h4>\\n  <div class=\"source \"><pre class=\"line before\"><span class=\"ws\">                           </span>parse_write_concern_error=parse_write_concern_error,</pre>\\n<pre class=\"line before\"><span class=\"ws\">                           </span>collation=collation,</pre>\\n<pre class=\"line before\"><span class=\"ws\">                           </span>compression_ctx=self.compression_context,</pre>\\n<pre class=\"line before\"><span class=\"ws\">                           </span>use_op_msg=self.op_msg_enabled,</pre>\\n<pre class=\"line before\"><span class=\"ws\">                           </span>unacknowledged=unacknowledged,</pre>\\n<pre class=\"line current\"><span class=\"ws\">                           </span>user_fields=user_fields)</pre>\\n<pre class=\"line after\"><span class=\"ws\">        </span>except OperationFailure:</pre>\\n<pre class=\"line after\"><span class=\"ws\">            </span>raise</pre>\\n<pre class=\"line after\"><span class=\"ws\">        </span># Catch socket.error, KeyboardInterrupt, etc. and close ourselves.</pre>\\n<pre class=\"line after\"><span class=\"ws\">        </span>except BaseException as error:</pre>\\n<pre class=\"line after\"><span class=\"ws\">            </span>self._raise_connection_failure(error)</pre></div>\\n</div>\\n\\n<li><div class=\"frame\" id=\"frame-4442671248\">\\n  <h4>File <cite class=\"filename\">\"/usr/local/lib/python3.7/site-packages/pymongo/network.py\"</cite>,\\n      line <em class=\"line\">129</em>,\\n      in <code class=\"function\">command</code></h4>\\n  <div class=\"source \"><pre class=\"line before\"><span class=\"ws\"></span> </pre>\\n<pre class=\"line before\"><span class=\"ws\">    </span>if use_op_msg:</pre>\\n<pre class=\"line before\"><span class=\"ws\">        </span>flags = 2 if unacknowledged else 0</pre>\\n<pre class=\"line before\"><span class=\"ws\">        </span>request_id, msg, size, max_doc_size = message._op_msg(</pre>\\n<pre class=\"line before\"><span class=\"ws\">            </span>flags, spec, dbname, read_preference, slave_ok, check_keys,</pre>\\n<pre class=\"line current\"><span class=\"ws\">            </span>codec_options, ctx=compression_ctx)</pre>\\n<pre class=\"line after\"><span class=\"ws\">        </span># If this is an unacknowledged write then make sure the encoded doc(s)</pre>\\n<pre class=\"line after\"><span class=\"ws\">        </span># are small enough, otherwise rely on the server to return an error.</pre>\\n<pre class=\"line after\"><span class=\"ws\">        </span>if (unacknowledged and max_bson_size is not None and</pre>\\n<pre class=\"line after\"><span class=\"ws\">                </span>max_doc_size &gt; max_bson_size):</pre>\\n<pre class=\"line after\"><span class=\"ws\">            </span>message._raise_document_too_large(name, size, max_bson_size)</pre></div>\\n</div>\\n\\n<li><div class=\"frame\" id=\"frame-4442671312\">\\n  <h4>File <cite class=\"filename\">\"/usr/local/lib/python3.7/site-packages/pymongo/message.py\"</cite>,\\n      line <em class=\"line\">707</em>,\\n      in <code class=\"function\">_op_msg</code></h4>\\n  <div class=\"source \"><pre class=\"line before\"><span class=\"ws\">    </span>try:</pre>\\n<pre class=\"line before\"><span class=\"ws\">        </span>if ctx:</pre>\\n<pre class=\"line before\"><span class=\"ws\">            </span>return _op_msg_compressed(</pre>\\n<pre class=\"line before\"><span class=\"ws\">                </span>flags, command, identifier, docs, check_keys, opts, ctx)</pre>\\n<pre class=\"line before\"><span class=\"ws\">        </span>return _op_msg_uncompressed(</pre>\\n<pre class=\"line current\"><span class=\"ws\">            </span>flags, command, identifier, docs, check_keys, opts)</pre>\\n<pre class=\"line after\"><span class=\"ws\">    </span>finally:</pre>\\n<pre class=\"line after\"><span class=\"ws\">        </span># Add the field back to the command.</pre>\\n<pre class=\"line after\"><span class=\"ws\">        </span>if identifier:</pre>\\n<pre class=\"line after\"><span class=\"ws\">            </span>command[identifier] = docs</pre>\\n<pre class=\"line after\"><span class=\"ws\"></span> </pre></div>\\n</div>\\n</ul>\\n  <blockquote>bson.errors.InvalidDocument: cannot encode object: {\\'p\\', \\'e\\'}, of type: &lt;class \\'set\\'&gt;</blockquote>\\n</div>\\n\\n<div class=\"plain\">\\n  <form action=\"/?__debugger__=yes&amp;cmd=paste\" method=\"post\">\\n    <p>\\n      <input type=\"hidden\" name=\"language\" value=\"pytb\">\\n      This is the Copy/Paste friendly version of the traceback.  <span\\n      class=\"pastemessage\">You can also paste this traceback into\\n      a <a href=\"https://gist.github.com/\">gist</a>:\\n      <input type=\"submit\" value=\"create paste\"></span>\\n    </p>\\n    <textarea cols=\"50\" rows=\"10\" name=\"code\" readonly>Traceback (most recent call last):\\n  File &quot;/usr/local/lib/python3.7/site-packages/flask/app.py&quot;, line 2463, in __call__\\n    return self.wsgi_app(environ, start_response)\\n  File &quot;/usr/local/lib/python3.7/site-packages/flask/app.py&quot;, line 2449, in wsgi_app\\n    response = self.handle_exception(e)\\n  File &quot;/usr/local/lib/python3.7/site-packages/flask/app.py&quot;, line 1866, in handle_exception\\n    reraise(exc_type, exc_value, tb)\\n  File &quot;/usr/local/lib/python3.7/site-packages/flask/_compat.py&quot;, line 39, in reraise\\n    raise value\\n  File &quot;/usr/local/lib/python3.7/site-packages/flask/app.py&quot;, line 2446, in wsgi_app\\n    response = self.full_dispatch_request()\\n  File &quot;/usr/local/lib/python3.7/site-packages/flask/app.py&quot;, line 1951, in full_dispatch_request\\n    rv = self.handle_user_exception(e)\\n  File &quot;/usr/local/lib/python3.7/site-packages/flask/app.py&quot;, line 1820, in handle_user_exception\\n    reraise(exc_type, exc_value, tb)\\n  File &quot;/usr/local/lib/python3.7/site-packages/flask/_compat.py&quot;, line 39, in reraise\\n    raise value\\n  File &quot;/usr/local/lib/python3.7/site-packages/flask/app.py&quot;, line 1949, in full_dispatch_request\\n    rv = self.dispatch_request()\\n  File &quot;/usr/local/lib/python3.7/site-packages/flask/app.py&quot;, line 1935, in dispatch_request\\n    return self.view_functions[rule.endpoint](**req.view_args)\\n  File &quot;/Users/fernandocosta/Desktop/apisentiment/api_endpoints.py&quot;, line 48, in addUserToChat\\n    db.conversations.update_one({ &quot;Chat name&quot;: chat_name },{ &quot;$push&quot;: { &quot;Users&quot;: set(username) }})\\n  File &quot;/usr/local/lib/python3.7/site-packages/pymongo/collection.py&quot;, line 1003, in update_one\\n    session=session),\\n  File &quot;/usr/local/lib/python3.7/site-packages/pymongo/collection.py&quot;, line 856, in _update_retryable\\n    _update, session)\\n  File &quot;/usr/local/lib/python3.7/site-packages/pymongo/mongo_client.py&quot;, line 1491, in _retryable_write\\n    return self._retry_with_session(retryable, func, s, None)\\n  File &quot;/usr/local/lib/python3.7/site-packages/pymongo/mongo_client.py&quot;, line 1384, in _retry_with_session\\n    return func(session, sock_info, retryable)\\n  File &quot;/usr/local/lib/python3.7/site-packages/pymongo/collection.py&quot;, line 852, in _update\\n    retryable_write=retryable_write)\\n  File &quot;/usr/local/lib/python3.7/site-packages/pymongo/collection.py&quot;, line 822, in _update\\n    retryable_write=retryable_write).copy()\\n  File &quot;/usr/local/lib/python3.7/site-packages/pymongo/pool.py&quot;, line 618, in command\\n    self._raise_connection_failure(error)\\n  File &quot;/usr/local/lib/python3.7/site-packages/pymongo/pool.py&quot;, line 613, in command\\n    user_fields=user_fields)\\n  File &quot;/usr/local/lib/python3.7/site-packages/pymongo/network.py&quot;, line 129, in command\\n    codec_options, ctx=compression_ctx)\\n  File &quot;/usr/local/lib/python3.7/site-packages/pymongo/message.py&quot;, line 707, in _op_msg\\n    flags, command, identifier, docs, check_keys, opts)\\nbson.errors.InvalidDocument: cannot encode object: {\\'p\\', \\'e\\'}, of type: &lt;class \\'set\\'&gt;</textarea>\\n  </form>\\n</div>\\n<div class=\"explanation\">\\n  The debugger caught an exception in your WSGI application.  You can now\\n  look at the traceback which led to the error.  <span class=\"nojavascript\">\\n  If you enable JavaScript you can also use additional features such as code\\n  execution (if the evalex feature is enabled), automatic pasting of the\\n  exceptions and much more.</span>\\n</div>\\n      <div class=\"footer\">\\n        Brought to you by <strong class=\"arthur\">DON\\'T PANIC</strong>, your\\n        friendly Werkzeug powered traceback interpreter.\\n      </div>\\n    </div>\\n\\n    <div class=\"pin-prompt\">\\n      <div class=\"inner\">\\n        <h3>Console Locked</h3>\\n        <p>\\n          The console is locked and needs to be unlocked by entering the PIN.\\n          You can find the PIN printed out on the standard output of your\\n          shell that runs the server.\\n        <form>\\n          <p>PIN:\\n            <input type=text name=pin size=14>\\n            <input type=submit name=btn value=\"Confirm Pin\">\\n        </form>\\n      </div>\\n    </div>\\n  </body>\\n</html>\\n\\n<!--\\n\\nTraceback (most recent call last):\\n  File \"/usr/local/lib/python3.7/site-packages/flask/app.py\", line 2463, in __call__\\n    return self.wsgi_app(environ, start_response)\\n  File \"/usr/local/lib/python3.7/site-packages/flask/app.py\", line 2449, in wsgi_app\\n    response = self.handle_exception(e)\\n  File \"/usr/local/lib/python3.7/site-packages/flask/app.py\", line 1866, in handle_exception\\n    reraise(exc_type, exc_value, tb)\\n  File \"/usr/local/lib/python3.7/site-packages/flask/_compat.py\", line 39, in reraise\\n    raise value\\n  File \"/usr/local/lib/python3.7/site-packages/flask/app.py\", line 2446, in wsgi_app\\n    response = self.full_dispatch_request()\\n  File \"/usr/local/lib/python3.7/site-packages/flask/app.py\", line 1951, in full_dispatch_request\\n    rv = self.handle_user_exception(e)\\n  File \"/usr/local/lib/python3.7/site-packages/flask/app.py\", line 1820, in handle_user_exception\\n    reraise(exc_type, exc_value, tb)\\n  File \"/usr/local/lib/python3.7/site-packages/flask/_compat.py\", line 39, in reraise\\n    raise value\\n  File \"/usr/local/lib/python3.7/site-packages/flask/app.py\", line 1949, in full_dispatch_request\\n    rv = self.dispatch_request()\\n  File \"/usr/local/lib/python3.7/site-packages/flask/app.py\", line 1935, in dispatch_request\\n    return self.view_functions[rule.endpoint](**req.view_args)\\n  File \"/Users/fernandocosta/Desktop/apisentiment/api_endpoints.py\", line 48, in addUserToChat\\n    db.conversations.update_one({ \"Chat name\": chat_name },{ \"$push\": { \"Users\": set(username) }})\\n  File \"/usr/local/lib/python3.7/site-packages/pymongo/collection.py\", line 1003, in update_one\\n    session=session),\\n  File \"/usr/local/lib/python3.7/site-packages/pymongo/collection.py\", line 856, in _update_retryable\\n    _update, session)\\n  File \"/usr/local/lib/python3.7/site-packages/pymongo/mongo_client.py\", line 1491, in _retryable_write\\n    return self._retry_with_session(retryable, func, s, None)\\n  File \"/usr/local/lib/python3.7/site-packages/pymongo/mongo_client.py\", line 1384, in _retry_with_session\\n    return func(session, sock_info, retryable)\\n  File \"/usr/local/lib/python3.7/site-packages/pymongo/collection.py\", line 852, in _update\\n    retryable_write=retryable_write)\\n  File \"/usr/local/lib/python3.7/site-packages/pymongo/collection.py\", line 822, in _update\\n    retryable_write=retryable_write).copy()\\n  File \"/usr/local/lib/python3.7/site-packages/pymongo/pool.py\", line 618, in command\\n    self._raise_connection_failure(error)\\n  File \"/usr/local/lib/python3.7/site-packages/pymongo/pool.py\", line 613, in command\\n    user_fields=user_fields)\\n  File \"/usr/local/lib/python3.7/site-packages/pymongo/network.py\", line 129, in command\\n    codec_options, ctx=compression_ctx)\\n  File \"/usr/local/lib/python3.7/site-packages/pymongo/message.py\", line 707, in _op_msg\\n    flags, command, identifier, docs, check_keys, opts)\\nbson.errors.InvalidDocument: cannot encode object: {\\'p\\', \\'e\\'}, of type: <class \\'set\\'>\\n\\n-->\\n'"
      ]
     },
     "execution_count": 105,
     "metadata": {},
     "output_type": "execute_result"
    }
   ],
   "source": [
    "chatname= input(\"Enter chat name: \")\n",
    "user_to_add = input(\"Enter the name of the user: \")\n",
    "\n",
    "requests.get(f\"http://localhost:8000/chat/{chat_id}/adduser/{user_to_add}\").text"
   ]
  },
  {
   "cell_type": "code",
   "execution_count": 31,
   "metadata": {},
   "outputs": [],
   "source": [
    "def checkUserExistsByName(db, username):\n",
    "    for _ in db.users.find({\"Name\":f\"{username}\"}):\n",
    "        user_exists = db.users.find({\"Name\":f\"{username}\"}, projection={\"Name\":True})\n",
    "        if len(list(user_exists)) > 0:\n",
    "            return True\n",
    "        else:\n",
    "            print(\"El usuario no existe\")\n",
    "            return False"
   ]
  },
  {
   "cell_type": "code",
   "execution_count": 32,
   "metadata": {},
   "outputs": [],
   "source": [
    "def getUserIdbyName(db, username):\n",
    "    #Get user's ID by inputting their name\n",
    "    for i in db.users.find({\"Name\":f\"{username}\"}):\n",
    "        ides = i.get('_id')\n",
    "        if checkUserExistsByName(db, username) == False:\n",
    "            return \"The user doesn't exist\"\n",
    "        else:\n",
    "            return json.dumps(ides, default=str)"
   ]
  },
  {
   "cell_type": "code",
   "execution_count": 33,
   "metadata": {},
   "outputs": [
    {
     "data": {
      "text/plain": [
       "'\"5e53dca8dbf8ffa0b08402ef\"'"
      ]
     },
     "execution_count": 33,
     "metadata": {},
     "output_type": "execute_result"
    }
   ],
   "source": [
    "getUserIdbyName(db, \"rocío\")"
   ]
  },
  {
   "cell_type": "code",
   "execution_count": null,
   "metadata": {},
   "outputs": [],
   "source": [
    "def checkUserExistsByName (db, username):\n",
    "    for _ in db.users.find({\"Name\":f\"{username}\"}):\n",
    "        user_exists = db.users.find({\"Name\":f\"{username}\"}, projection={\"Name\":True})\n",
    "        if len(list(user_exists)) > 0:\n",
    "            return True\n",
    "        else:\n",
    "            print(\"El usuario no existe\")\n",
    "            return False"
   ]
  },
  {
   "cell_type": "code",
   "execution_count": null,
   "metadata": {},
   "outputs": [],
   "source": [
    "checkUserExistsByName(db, \"<dfdklsfasdfsdfgfhfdgzh\")"
   ]
  },
  {
   "cell_type": "code",
   "execution_count": null,
   "metadata": {},
   "outputs": [],
   "source": []
  },
  {
   "cell_type": "code",
   "execution_count": null,
   "metadata": {},
   "outputs": [],
   "source": [
    "def getUserIdbyName(db, username):\n",
    "    #Get user's ID by inputting their name\n",
    "    for i in db.users.find({\"Name\":f\"{username}\"}):\n",
    "        ides = i.get('_id')\n",
    "        if checkUserExistsByName(db, username) == False:\n",
    "            return \"The user doesn't exist\"\n",
    "        else:\n",
    "            return json.dumps(ides, default=str)"
   ]
  },
  {
   "cell_type": "code",
   "execution_count": null,
   "metadata": {},
   "outputs": [],
   "source": [
    "getUserIdbyName(db, \"fer\")"
   ]
  },
  {
   "cell_type": "code",
   "execution_count": null,
   "metadata": {},
   "outputs": [],
   "source": [
    "def getChatIDbyName(db, chat_name):\n",
    "    #Get chat ID by inputting its name\n",
    "    for i in db.conversations.find({\"Chat name\":f\"{chat_name}\"}):\n",
    "        ides = i.get('_id')\n",
    "        return json.dumps(ides, default=str)"
   ]
  },
  {
   "cell_type": "code",
   "execution_count": null,
   "metadata": {},
   "outputs": [],
   "source": [
    "getChatIDbyName(db, \"universidaad\")"
   ]
  },
  {
   "cell_type": "code",
   "execution_count": 41,
   "metadata": {},
   "outputs": [],
   "source": [
    "def checkUserExistsByID(db, user_id):\n",
    "    user_exists = (db.users.find({\"_id\":f\"{user_id}\"}, projection={\"_id\":True}))\n",
    "    if len(list(user_exists)) > 0:\n",
    "        return True\n",
    "    else:\n",
    "        return False"
   ]
  },
  {
   "cell_type": "code",
   "execution_count": 42,
   "metadata": {},
   "outputs": [
    {
     "data": {
      "text/plain": [
       "False"
      ]
     },
     "execution_count": 42,
     "metadata": {},
     "output_type": "execute_result"
    }
   ],
   "source": [
    "checkUserExistsByID(db, \"5e53dca8dbf8ffa0b08402ef\")"
   ]
  },
  {
   "cell_type": "code",
   "execution_count": null,
   "metadata": {},
   "outputs": [],
   "source": []
  }
 ],
 "metadata": {
  "kernelspec": {
   "display_name": "Python 3",
   "language": "python",
   "name": "python3"
  },
  "language_info": {
   "codemirror_mode": {
    "name": "ipython",
    "version": 3
   },
   "file_extension": ".py",
   "mimetype": "text/x-python",
   "name": "python",
   "nbconvert_exporter": "python",
   "pygments_lexer": "ipython3",
   "version": "3.7.6"
  }
 },
 "nbformat": 4,
 "nbformat_minor": 2
}
