{
 "cells": [
  {
   "cell_type": "markdown",
   "metadata": {},
   "source": [
    "# Sentiment analysis of text messages stored in an database through an API"
   ]
  },
  {
   "cell_type": "code",
   "execution_count": 18,
   "metadata": {},
   "outputs": [],
   "source": [
    "import requests"
   ]
  },
  {
   "cell_type": "markdown",
   "metadata": {},
   "source": [
    "### Status check"
   ]
  },
  {
   "cell_type": "code",
   "execution_count": 92,
   "metadata": {},
   "outputs": [
    {
     "data": {
      "text/plain": [
       "{'Success': 'The API works!'}"
      ]
     },
     "execution_count": 92,
     "metadata": {},
     "output_type": "execute_result"
    }
   ],
   "source": [
    "requests.get(\"http://localhost:8000/test\").json()"
   ]
  },
  {
   "cell_type": "markdown",
   "metadata": {},
   "source": [
    "## Create USER"
   ]
  },
  {
   "cell_type": "code",
   "execution_count": 94,
   "metadata": {
    "scrolled": true
   },
   "outputs": [
    {
     "name": "stdout",
     "output_type": "stream",
     "text": [
      "Enter one name for your user: John Doe\n"
     ]
    },
    {
     "data": {
      "text/plain": [
       "{'The user John Doe has been created with the ID': '\"5e5566ca66543649012ffab1\"'}"
      ]
     },
     "execution_count": 94,
     "metadata": {},
     "output_type": "execute_result"
    }
   ],
   "source": [
    "username = input(\"Enter one name for your user: \")\n",
    "requests.get(f\"http://localhost:8000/user/create/{username}\").json()"
   ]
  },
  {
   "cell_type": "markdown",
   "metadata": {},
   "source": [
    "### Is the user already in the database?"
   ]
  },
  {
   "cell_type": "code",
   "execution_count": 95,
   "metadata": {},
   "outputs": [
    {
     "name": "stdout",
     "output_type": "stream",
     "text": [
      "Enter one name for your user: John Doe\n"
     ]
    },
    {
     "data": {
      "text/plain": [
       "{'Error. That user already exists with the ID': '\"5e5566ca66543649012ffab1\"'}"
      ]
     },
     "execution_count": 95,
     "metadata": {},
     "output_type": "execute_result"
    }
   ],
   "source": [
    "username = input(\"Enter one name for your user: \")\n",
    "requests.get(f\"http://localhost:8000/user/create/{username}\").json()"
   ]
  },
  {
   "cell_type": "markdown",
   "metadata": {},
   "source": [
    "## Create CHAT"
   ]
  },
  {
   "cell_type": "code",
   "execution_count": 96,
   "metadata": {},
   "outputs": [
    {
     "name": "stdout",
     "output_type": "stream",
     "text": [
      "Enter group name: Weekend getaway\n"
     ]
    },
    {
     "data": {
      "text/plain": [
       "{'The chat Weekend getaway has been created with the ID': '\"5e5566db66543649012ffab2\"'}"
      ]
     },
     "execution_count": 96,
     "metadata": {},
     "output_type": "execute_result"
    }
   ],
   "source": [
    "chat_name = input(\"Enter group name: \")\n",
    "requests.get(f\"http://localhost:8000/chat/create/{chat_name}\").json()"
   ]
  },
  {
   "cell_type": "code",
   "execution_count": 97,
   "metadata": {},
   "outputs": [
    {
     "name": "stdout",
     "output_type": "stream",
     "text": [
      "Enter group name: Weekend getaway\n"
     ]
    },
    {
     "data": {
      "text/plain": [
       "{'Error. The chat name Weekend getaway exists with the ID': '\"5e5566db66543649012ffab2\"'}"
      ]
     },
     "execution_count": 97,
     "metadata": {},
     "output_type": "execute_result"
    }
   ],
   "source": [
    "chat_name = input(\"Enter group name: \")\n",
    "requests.get(f\"http://localhost:8000/chat/create/{chat_name}\").json()"
   ]
  },
  {
   "cell_type": "markdown",
   "metadata": {},
   "source": [
    "## Add USER to a CHAT"
   ]
  },
  {
   "cell_type": "code",
   "execution_count": 107,
   "metadata": {
    "scrolled": false
   },
   "outputs": [
    {
     "name": "stdout",
     "output_type": "stream",
     "text": [
      "Enter CHAT name: Weekend getaway\n",
      "Enter the name of the USER: larosalia\n"
     ]
    },
    {
     "data": {
      "text/plain": [
       "{'The user larosalia has been added to the chat Weekend getaway with the chatID': '\"5e5566db66543649012ffab2\"'}"
      ]
     },
     "execution_count": 107,
     "metadata": {},
     "output_type": "execute_result"
    }
   ],
   "source": [
    "chatname= input(\"Enter CHAT name: \")\n",
    "user_to_add = input(\"Enter the name of the USER: \")\n",
    "\n",
    "requests.get(f\"http://localhost:8000/chat/{chatname}/adduser/{user_to_add}\").json()"
   ]
  },
  {
   "cell_type": "code",
   "execution_count": 102,
   "metadata": {},
   "outputs": [
    {
     "name": "stdout",
     "output_type": "stream",
     "text": [
      "Enter CHAT name: Weekend getaway\n",
      "Enter the name of the USER: Jane Doe\n"
     ]
    },
    {
     "data": {
      "text/plain": [
       "{'The user Jane Doe has been added to the chat Weekend getaway with the chatID': '\"5e5566db66543649012ffab2\"'}"
      ]
     },
     "execution_count": 102,
     "metadata": {},
     "output_type": "execute_result"
    }
   ],
   "source": [
    "chatname= input(\"Enter CHAT name: \")\n",
    "user_to_add = input(\"Enter the name of the USER: \")\n",
    "\n",
    "requests.get(f\"http://localhost:8000/chat/{chatname}/adduser/{user_to_add}\").json()"
   ]
  },
  {
   "cell_type": "markdown",
   "metadata": {},
   "source": [
    "## Add MESSAGES to a CHAT"
   ]
  },
  {
   "cell_type": "code",
   "execution_count": 108,
   "metadata": {},
   "outputs": [
    {
     "name": "stdout",
     "output_type": "stream",
     "text": [
      "Enter CHAT name: Weekend getaway\n",
      "Enter the name of the USER: larosalia\n",
      "What MESSAGE did this user say?: tra tra!\n"
     ]
    },
    {
     "data": {
      "text/plain": [
       "{'The text tra tra! sent by the user larosalia has been added to the chat Weekend getaway with the chatID': '\"5e5566db66543649012ffab2\"'}"
      ]
     },
     "execution_count": 108,
     "metadata": {},
     "output_type": "execute_result"
    }
   ],
   "source": [
    "chatname= input(\"Enter CHAT name: \")\n",
    "user_to_add = input(\"Enter the name of the USER: \")\n",
    "message = input(\"What MESSAGE did this user say?: \")\n",
    "\n",
    "requests.get(f\"http://localhost:8000/chat/{chatname}/{user_to_add}/{message}\").json()"
   ]
  },
  {
   "cell_type": "code",
   "execution_count": null,
   "metadata": {},
   "outputs": [],
   "source": []
  }
 ],
 "metadata": {
  "kernelspec": {
   "display_name": "Python 3",
   "language": "python",
   "name": "python3"
  },
  "language_info": {
   "codemirror_mode": {
    "name": "ipython",
    "version": 3
   },
   "file_extension": ".py",
   "mimetype": "text/x-python",
   "name": "python",
   "nbconvert_exporter": "python",
   "pygments_lexer": "ipython3",
   "version": "3.7.6"
  }
 },
 "nbformat": 4,
 "nbformat_minor": 2
}
