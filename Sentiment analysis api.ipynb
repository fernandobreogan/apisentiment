{
 "cells": [
  {
   "cell_type": "code",
   "execution_count": 64,
   "metadata": {},
   "outputs": [],
   "source": [
    "import requests\n",
    "from pymongo import MongoClient\n",
    "from bson.objectid import ObjectId\n",
    "from flask import Flask, request\n",
    "import pymongo\n",
    "import json\n",
    "import argparse\n",
    "import requests"
   ]
  },
  {
   "cell_type": "code",
   "execution_count": 65,
   "metadata": {},
   "outputs": [
    {
     "name": "stdout",
     "output_type": "stream",
     "text": [
      "24\n"
     ]
    }
   ],
   "source": [
    "print(len(\"5e500b2a6deb96fb1ae8698e\"))"
   ]
  },
  {
   "cell_type": "code",
   "execution_count": 96,
   "metadata": {},
   "outputs": [],
   "source": [
    "client = MongoClient('mongodb://localhost:27017/')\n",
    "db = client['eslac']"
   ]
  },
  {
   "cell_type": "code",
   "execution_count": 97,
   "metadata": {},
   "outputs": [
    {
     "data": {
      "text/plain": [
       "'The API works!'"
      ]
     },
     "execution_count": 97,
     "metadata": {},
     "output_type": "execute_result"
    }
   ],
   "source": [
    "requests.get(\"http://localhost:8000/test\").text"
   ]
  },
  {
   "cell_type": "markdown",
   "metadata": {},
   "source": [
    "## Create USER"
   ]
  },
  {
   "cell_type": "code",
   "execution_count": 98,
   "metadata": {
    "scrolled": true
   },
   "outputs": [
    {
     "name": "stdout",
     "output_type": "stream",
     "text": [
      "Enter one name for your user: sdzfxg\n"
     ]
    },
    {
     "data": {
      "text/plain": [
       "'\"5e53f061751078c1dcf76b68\"'"
      ]
     },
     "execution_count": 98,
     "metadata": {},
     "output_type": "execute_result"
    }
   ],
   "source": [
    "username = input(\"Enter one name for your user: \")\n",
    "requests.get(f\"http://localhost:8000/user/create/{username}\").text"
   ]
  },
  {
   "cell_type": "markdown",
   "metadata": {},
   "source": [
    "## Create CHAT"
   ]
  },
  {
   "cell_type": "code",
   "execution_count": 99,
   "metadata": {},
   "outputs": [
    {
     "name": "stdout",
     "output_type": "stream",
     "text": [
      "Enter group name: dzf\n"
     ]
    },
    {
     "data": {
      "text/plain": [
       "'\"5e53f062751078c1dcf76b69\"'"
      ]
     },
     "execution_count": 99,
     "metadata": {},
     "output_type": "execute_result"
    }
   ],
   "source": [
    "chat_name = input(\"Enter group name: \")\n",
    "requests.get(f\"http://localhost:8000/chat/create/{chat_name}\").text"
   ]
  },
  {
   "cell_type": "markdown",
   "metadata": {},
   "source": [
    "## Add USER to a CHAT"
   ]
  },
  {
   "cell_type": "code",
   "execution_count": 101,
   "metadata": {},
   "outputs": [],
   "source": [
    "def addUserToChat(chat_name, username):\n",
    "    check_user = checkUserExistsByName(db, username)\n",
    "    check_chat = checkChatExistsByName(db, chat_name)\n",
    "    if  check_user == True:\n",
    "        if check_chat == True:\n",
    "            db.conversations.update_one({ \"Chat name\": chat_name },{ \"$push\": { \"Users\": username }})\n",
    "        return \"The user {} has been added to the chat: {}\".format(username, chat_name)\n",
    "    else:\n",
    "        return \"Error: either of them does not exist\""
   ]
  },
  {
   "cell_type": "code",
   "execution_count": 95,
   "metadata": {},
   "outputs": [
    {
     "data": {
      "text/plain": [
       "'The user pepe has been added to the chat: pueblo'"
      ]
     },
     "execution_count": 95,
     "metadata": {},
     "output_type": "execute_result"
    }
   ],
   "source": [
    "addUserToChat(\"pueblo\", \"pepe\")"
   ]
  },
  {
   "cell_type": "code",
   "execution_count": 107,
   "metadata": {
    "scrolled": true
   },
   "outputs": [
    {
     "name": "stdout",
     "output_type": "stream",
     "text": [
      "Enter chat name: pueblo\n",
      "Enter the name of the user: pepe\n"
     ]
    },
    {
     "data": {
      "text/plain": [
       "'The user pepe has been added to the chat: pueblo'"
      ]
     },
     "execution_count": 107,
     "metadata": {},
     "output_type": "execute_result"
    }
   ],
   "source": [
    "chatname= input(\"Enter chat name: \")\n",
    "user_to_add = input(\"Enter the name of the user: \")\n",
    "\n",
    "requests.get(f\"http://localhost:8000/chat/{chat_id}/adduser/{user_to_add}\").text"
   ]
  },
  {
   "cell_type": "code",
   "execution_count": 31,
   "metadata": {},
   "outputs": [],
   "source": [
    "def checkUserExistsByName(db, username):\n",
    "    for _ in db.users.find({\"Name\":f\"{username}\"}):\n",
    "        user_exists = db.users.find({\"Name\":f\"{username}\"}, projection={\"Name\":True})\n",
    "        if len(list(user_exists)) > 0:\n",
    "            return True\n",
    "        else:\n",
    "            print(\"El usuario no existe\")\n",
    "            return False"
   ]
  },
  {
   "cell_type": "code",
   "execution_count": 32,
   "metadata": {},
   "outputs": [],
   "source": [
    "def getUserIdbyName(db, username):\n",
    "    #Get user's ID by inputting their name\n",
    "    for i in db.users.find({\"Name\":f\"{username}\"}):\n",
    "        ides = i.get('_id')\n",
    "        if checkUserExistsByName(db, username) == False:\n",
    "            return \"The user doesn't exist\"\n",
    "        else:\n",
    "            return json.dumps(ides, default=str)"
   ]
  },
  {
   "cell_type": "code",
   "execution_count": 33,
   "metadata": {},
   "outputs": [
    {
     "data": {
      "text/plain": [
       "'\"5e53dca8dbf8ffa0b08402ef\"'"
      ]
     },
     "execution_count": 33,
     "metadata": {},
     "output_type": "execute_result"
    }
   ],
   "source": [
    "getUserIdbyName(db, \"rocío\")"
   ]
  },
  {
   "cell_type": "code",
   "execution_count": null,
   "metadata": {},
   "outputs": [],
   "source": [
    "def checkUserExistsByName (db, username):\n",
    "    for _ in db.users.find({\"Name\":f\"{username}\"}):\n",
    "        user_exists = db.users.find({\"Name\":f\"{username}\"}, projection={\"Name\":True})\n",
    "        if len(list(user_exists)) > 0:\n",
    "            return True\n",
    "        else:\n",
    "            print(\"El usuario no existe\")\n",
    "            return False"
   ]
  },
  {
   "cell_type": "code",
   "execution_count": null,
   "metadata": {},
   "outputs": [],
   "source": [
    "checkUserExistsByName(db, \"<dfdklsfasdfsdfgfhfdgzh\")"
   ]
  },
  {
   "cell_type": "code",
   "execution_count": null,
   "metadata": {},
   "outputs": [],
   "source": [
    "def getUserIdbyName(db, username):\n",
    "    #Get user's ID by inputting their name\n",
    "    for i in db.users.find({\"Name\":f\"{username}\"}):\n",
    "        ides = i.get('_id')\n",
    "        if checkUserExistsByName(db, username) == False:\n",
    "            return \"The user doesn't exist\"\n",
    "        else:\n",
    "            return json.dumps(ides, default=str)"
   ]
  },
  {
   "cell_type": "code",
   "execution_count": null,
   "metadata": {},
   "outputs": [],
   "source": [
    "getUserIdbyName(db, \"fer\")"
   ]
  },
  {
   "cell_type": "code",
   "execution_count": null,
   "metadata": {},
   "outputs": [],
   "source": [
    "def getChatIDbyName(db, chat_name):\n",
    "    #Get chat ID by inputting its name\n",
    "    for i in db.conversations.find({\"Chat name\":f\"{chat_name}\"}):\n",
    "        ides = i.get('_id')\n",
    "        return json.dumps(ides, default=str)"
   ]
  },
  {
   "cell_type": "code",
   "execution_count": null,
   "metadata": {},
   "outputs": [],
   "source": [
    "getChatIDbyName(db, \"universidaad\")"
   ]
  },
  {
   "cell_type": "code",
   "execution_count": 41,
   "metadata": {},
   "outputs": [],
   "source": [
    "def checkUserExistsByID(db, user_id):\n",
    "    user_exists = (db.users.find({\"_id\":f\"{user_id}\"}, projection={\"_id\":True}))\n",
    "    if len(list(user_exists)) > 0:\n",
    "        return True\n",
    "    else:\n",
    "        return False"
   ]
  },
  {
   "cell_type": "code",
   "execution_count": 42,
   "metadata": {},
   "outputs": [
    {
     "data": {
      "text/plain": [
       "False"
      ]
     },
     "execution_count": 42,
     "metadata": {},
     "output_type": "execute_result"
    }
   ],
   "source": [
    "checkUserExistsByID(db, \"5e53dca8dbf8ffa0b08402ef\")"
   ]
  },
  {
   "cell_type": "code",
   "execution_count": 126,
   "metadata": {},
   "outputs": [],
   "source": [
    "def addMessagesToChat(chat_name, username, message):\n",
    "    check_user = checkUserExistsByName(db, username)\n",
    "    check_chat = checkChatExistsByName(db, chat_name)\n",
    "    if  check_user == True:\n",
    "        if check_chat == True:\n",
    "            db.conversations.update({ \"Chat name\": chat_name },{ \"$push\": { \"Messages\": {username:message}}})\n",
    "        return \"The user {} has been added the message {} the chat: {}\".format(username, message)\n",
    "    else:\n",
    "        return \"Error: either of them does not exist\""
   ]
  },
  {
   "cell_type": "code",
   "execution_count": 127,
   "metadata": {},
   "outputs": [
    {
     "name": "stderr",
     "output_type": "stream",
     "text": [
      "/usr/local/lib/python3.7/site-packages/ipykernel_launcher.py:6: DeprecationWarning: update is deprecated. Use replace_one, update_one or update_many instead.\n",
      "  \n"
     ]
    },
    {
     "ename": "IndexError",
     "evalue": "tuple index out of range",
     "output_type": "error",
     "traceback": [
      "\u001b[0;31m---------------------------------------------------------------------------\u001b[0m",
      "\u001b[0;31mIndexError\u001b[0m                                Traceback (most recent call last)",
      "\u001b[0;32m<ipython-input-127-09cc00758e39>\u001b[0m in \u001b[0;36m<module>\u001b[0;34m\u001b[0m\n\u001b[0;32m----> 1\u001b[0;31m \u001b[0maddMessagesToChat\u001b[0m\u001b[0;34m(\u001b[0m\u001b[0;34m\"pueblo\"\u001b[0m\u001b[0;34m,\u001b[0m \u001b[0;34m\"pepe\"\u001b[0m\u001b[0;34m,\u001b[0m \u001b[0;34m\"hola\"\u001b[0m\u001b[0;34m)\u001b[0m\u001b[0;34m\u001b[0m\u001b[0;34m\u001b[0m\u001b[0m\n\u001b[0m",
      "\u001b[0;32m<ipython-input-126-6bc1c267eea7>\u001b[0m in \u001b[0;36maddMessagesToChat\u001b[0;34m(chat_name, username, message)\u001b[0m\n\u001b[1;32m      5\u001b[0m         \u001b[0;32mif\u001b[0m \u001b[0mcheck_chat\u001b[0m \u001b[0;34m==\u001b[0m \u001b[0;32mTrue\u001b[0m\u001b[0;34m:\u001b[0m\u001b[0;34m\u001b[0m\u001b[0;34m\u001b[0m\u001b[0m\n\u001b[1;32m      6\u001b[0m             \u001b[0mdb\u001b[0m\u001b[0;34m.\u001b[0m\u001b[0mconversations\u001b[0m\u001b[0;34m.\u001b[0m\u001b[0mupdate\u001b[0m\u001b[0;34m(\u001b[0m\u001b[0;34m{\u001b[0m \u001b[0;34m\"Chat name\"\u001b[0m\u001b[0;34m:\u001b[0m \u001b[0mchat_name\u001b[0m \u001b[0;34m}\u001b[0m\u001b[0;34m,\u001b[0m\u001b[0;34m{\u001b[0m \u001b[0;34m\"$push\"\u001b[0m\u001b[0;34m:\u001b[0m \u001b[0;34m{\u001b[0m \u001b[0;34m\"Messages\"\u001b[0m\u001b[0;34m:\u001b[0m \u001b[0;34m{\u001b[0m\u001b[0musername\u001b[0m\u001b[0;34m:\u001b[0m\u001b[0mmessage\u001b[0m\u001b[0;34m}\u001b[0m\u001b[0;34m}\u001b[0m\u001b[0;34m}\u001b[0m\u001b[0;34m)\u001b[0m\u001b[0;34m\u001b[0m\u001b[0;34m\u001b[0m\u001b[0m\n\u001b[0;32m----> 7\u001b[0;31m         \u001b[0;32mreturn\u001b[0m \u001b[0;34m\"The user {} has been added the message {} the chat: {}\"\u001b[0m\u001b[0;34m.\u001b[0m\u001b[0mformat\u001b[0m\u001b[0;34m(\u001b[0m\u001b[0musername\u001b[0m\u001b[0;34m,\u001b[0m \u001b[0mmessage\u001b[0m\u001b[0;34m)\u001b[0m\u001b[0;34m\u001b[0m\u001b[0;34m\u001b[0m\u001b[0m\n\u001b[0m\u001b[1;32m      8\u001b[0m     \u001b[0;32melse\u001b[0m\u001b[0;34m:\u001b[0m\u001b[0;34m\u001b[0m\u001b[0;34m\u001b[0m\u001b[0m\n\u001b[1;32m      9\u001b[0m         \u001b[0;32mreturn\u001b[0m \u001b[0;34m\"Error: either of them does not exist\"\u001b[0m\u001b[0;34m\u001b[0m\u001b[0;34m\u001b[0m\u001b[0m\n",
      "\u001b[0;31mIndexError\u001b[0m: tuple index out of range"
     ]
    }
   ],
   "source": [
    "addMessagesToChat(\"pueblo\", \"pepe\", \"hola\")"
   ]
  },
  {
   "cell_type": "code",
   "execution_count": null,
   "metadata": {},
   "outputs": [],
   "source": []
  },
  {
   "cell_type": "code",
   "execution_count": null,
   "metadata": {},
   "outputs": [],
   "source": []
  }
 ],
 "metadata": {
  "kernelspec": {
   "display_name": "Python 3",
   "language": "python",
   "name": "python3"
  },
  "language_info": {
   "codemirror_mode": {
    "name": "ipython",
    "version": 3
   },
   "file_extension": ".py",
   "mimetype": "text/x-python",
   "name": "python",
   "nbconvert_exporter": "python",
   "pygments_lexer": "ipython3",
   "version": "3.7.6"
  }
 },
 "nbformat": 4,
 "nbformat_minor": 2
}
